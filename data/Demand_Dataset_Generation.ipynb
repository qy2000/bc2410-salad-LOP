{
 "cells": [
  {
   "cell_type": "markdown",
   "metadata": {},
   "source": [
    "## Generate Demand Dataset using Kaggle Data\n",
    "Using Kaggle Store Item Demand Dataset, we replaced the item ID with SaladStop's ingredient names to generate a simulated demand dataset\n",
    "Kaggle Data: https://www.kaggle.com/competitions/demand-forecasting-kernels-only/data?select=train.csv"
   ]
  },
  {
   "cell_type": "code",
   "execution_count": 86,
   "metadata": {},
   "outputs": [],
   "source": [
    "import pandas as pd\n",
    "\n",
    "df = pd.read_csv(\"train.csv\")\n",
    "df = df[df[\"store\"] == 1]\n",
    "df.describe()"
   ]
  },
  {
   "cell_type": "code",
   "execution_count": 89,
   "metadata": {},
   "outputs": [],
   "source": [
    "df = df.drop(columns=[\"store\"])\n",
    "newf = df.pivot(index='date', columns='item')\n",
    "df = df.set_index('date')\n",
    "\n",
    "newf.columns = newf.columns.droplevel(0)\n",
    "newf.head()"
   ]
  },
  {
   "cell_type": "code",
   "execution_count": 94,
   "metadata": {},
   "outputs": [],
   "source": [
    "df15 = newf.iloc[:, 10:25]\n",
    "df22 =  newf.iloc[:, 16:38]\n",
    "df = pd.concat([newf, df15, df22], axis=1)"
   ]
  },
  {
   "cell_type": "code",
   "execution_count": 98,
   "metadata": {},
   "outputs": [],
   "source": [
    "ingredients = ['Red & White Cabbage',\n",
    " 'Romaine',\n",
    " 'Kale',\n",
    " 'Baby Spinach',\n",
    " 'Wholemeal Wrap',\n",
    " 'Spinach Wrap',\n",
    " 'Tortilla Wrap',\n",
    " 'Tomato Wrap',\n",
    " 'Cauliflower Rice',\n",
    " 'Quinoa',\n",
    " 'Pea Sprouts',\n",
    " 'Pomelo',\n",
    " 'Radish Pickles',\n",
    " 'Mixed Seeds',\n",
    " 'Sesame Seeds',\n",
    " 'Furikake',\n",
    " 'Crushed Peanuts',\n",
    " 'Cucumber Pickles',\n",
    " 'Lime Wedge',\n",
    " 'Jalapeno',\n",
    " 'Fresh Herbs',\n",
    " 'Grated Eggs',\n",
    " 'Tofu',\n",
    " 'Raisins',\n",
    " 'Mandarin Orange',\n",
    " 'Green Apple',\n",
    " 'Grapes',\n",
    " 'Croutons',\n",
    " 'Soba Noodles',\n",
    " 'Roasted Pumpkins',\n",
    " 'Potato',\n",
    " 'Black Beans',\n",
    " 'Chickpeas',\n",
    " 'Edamame',\n",
    " 'Broccoli',\n",
    " 'Sweet Corn',\n",
    " 'French Beans',\n",
    " 'Olives',\n",
    " 'Red Onions',\n",
    " 'Cherry Tomatoes',\n",
    " 'Capsicum',\n",
    " 'Cucumbers',\n",
    " 'Carrot',\n",
    " 'Beetroot',\n",
    " 'Sous-vide Chicken',\n",
    " 'Sous-vide Salmon',\n",
    " 'Super Protein Patty',\n",
    " 'Thai Asparagus',\n",
    " 'Toasted Almonds',\n",
    " 'Walnuts',\n",
    " 'Bacon Bits',\n",
    " 'Roasted Lemongrass Chicken',\n",
    " 'Tandoori Chicken',\n",
    " 'Roasted Chicken',\n",
    " 'Seared Tuna',\n",
    " 'Smoked Salmon',\n",
    " 'Grilled Halloumi Cheese',\n",
    " 'Feta',\n",
    " 'Parmesan',\n",
    " 'Cheddar',\n",
    " 'Soft Boiled Eggs',\n",
    " 'Whole Eggs',\n",
    " 'Veggie Patty',\n",
    " 'Falafel',\n",
    " 'Grilled Tofu',\n",
    " 'Avocado',\n",
    " 'Roasted Brussel Sprouts',\n",
    " 'Warm Baked Mushrooms',\n",
    " 'Arabian Spiced Vinaigrette',\n",
    " 'Indian Spiced Yoghurt',\n",
    " 'Japanese Miso',\n",
    " 'Korean Chilli Vinaigrette',\n",
    " 'Sesame Lime',\n",
    " 'Thai Turmeric',\n",
    " 'Wasabi Honey Soy',\n",
    " 'Balsamic Vinagrette',\n",
    " 'Basil Pesto',\n",
    " 'Cashew Mint',\n",
    " 'Classic Caesar',\n",
    " 'Honey Dijon',\n",
    " 'Lemon & Oil',\n",
    " 'Mixed Berries Vinaigrette',\n",
    " 'Olive Oil',\n",
    " 'Salt & Pepper',\n",
    " 'Smoked Pimento',\n",
    " 'Smoky Ranch',\n",
    " 'Tabbasco Sauce',]"
   ]
  },
  {
   "cell_type": "code",
   "execution_count": 102,
   "metadata": {},
   "outputs": [],
   "source": [
    "df.columns = ingredients\n",
    "\n",
    "temp = df[\"Red & White Cabbage\"]\n",
    "df[\"Red & White Cabbage\"] = df[\"Tomato Wrap\"]\n",
    "df[\"Tomato Wrap\"] = df[\"Baby Spinach\"]\n",
    "df[\"Spinach Wrap\"] = df[\"Olive Oil\"]\n",
    "\n",
    "df.to_csv(\"demand_kaggle.csv\")"
   ]
  }
 ],
 "metadata": {
  "kernelspec": {
   "display_name": "Python 3",
   "language": "python",
   "name": "python3"
  },
  "language_info": {
   "codemirror_mode": {
    "name": "ipython",
    "version": 3
   },
   "file_extension": ".py",
   "mimetype": "text/x-python",
   "name": "python",
   "nbconvert_exporter": "python",
   "pygments_lexer": "ipython3",
   "version": "3.8.5"
  }
 },
 "nbformat": 4,
 "nbformat_minor": 4
}
